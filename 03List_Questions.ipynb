{
 "cells": [
  {
   "cell_type": "markdown",
   "id": "98e2c9da",
   "metadata": {},
   "source": [
    "Question 1:Manage a to do list\n",
    "\n",
    "-> Create a to do list to keep track of tasks"
   ]
  },
  {
   "cell_type": "code",
   "execution_count": 5,
   "id": "92f79637",
   "metadata": {},
   "outputs": [
    {
     "name": "stdout",
     "output_type": "stream",
     "text": [
      "Don't forget to pay the utility bills\n",
      "to do list remaining\n",
      "-buy groceries\n",
      "-pay bills\n",
      "-Schedule meeting\n",
      "-go for a run\n"
     ]
    }
   ],
   "source": [
    "to_do_list=[\"buy groceries\",\"clean the house\",\"pay bills\"]\n",
    "\n",
    "#Adding to task\n",
    "to_do_list.append(\"Schedule meeting\")\n",
    "to_do_list.append(\"go for a run\")\n",
    "\n",
    "#removing a completed task\n",
    "to_do_list.remove(\"clean the house\")\n",
    "\n",
    "#checking if a task is in the list\n",
    "if \"pay bills\" in to_do_list:\n",
    "    print(\"Don't forget to pay the utility bills\")\n",
    "\n",
    "print(\"to do list remaining\")\n",
    "for task in to_do_list:\n",
    "    print(f\"-{task}\")  #Prints every task with a - before it, like a bulleted list.\n"
   ]
  },
  {
   "cell_type": "markdown",
   "id": "1a371e1a",
   "metadata": {},
   "source": [
    "Question 2: Organizing Student Grades\n",
    "\n",
    "-> Create a list to store and calculate average grades for students"
   ]
  },
  {
   "cell_type": "code",
   "execution_count": 7,
   "id": "653265dc",
   "metadata": {},
   "outputs": [
    {
     "name": "stdout",
     "output_type": "stream",
     "text": [
      "Average Grade: 91.33\n",
      "Highest Grade: 97\n",
      "Lowest Grade: 85\n"
     ]
    }
   ],
   "source": [
    "#Oraganizing student grades\n",
    "grades = [92,97,85,88,90]\n",
    "\n",
    "#Adding a new grade\n",
    "grades.append(96)\n",
    "\n",
    "#calculating the average grade\n",
    "average_grade = sum(grades) / len(grades) #sum of grades divided by no. of grades\n",
    "print(f\"Average Grade: {average_grade:.2f}\")\n",
    "                 #Format the number as a floating-point value \n",
    "                 # with 2 digits after the decimal point.\n",
    "\n",
    "\n",
    "#Finding the highest and lowest grades\n",
    "highest_grade = max(grades)\n",
    "lowest_grade = min(grades)\n",
    "print(f\"Highest Grade: {highest_grade}\")\n",
    "print(f\"Lowest Grade: {lowest_grade}\")\n"
   ]
  },
  {
   "cell_type": "markdown",
   "id": "c5289dd2",
   "metadata": {},
   "source": [
    "Question 3: Managing An Inventory\n",
    "\n",
    "-> Use a list to manage inventory in a store"
   ]
  },
  {
   "cell_type": "code",
   "execution_count": 8,
   "id": "f9382b96",
   "metadata": {},
   "outputs": [
    {
     "name": "stdout",
     "output_type": "stream",
     "text": [
      "D are in stock\n",
      "Inventory List:\n",
      "-A\n",
      "-C\n",
      "-D\n",
      "-E\n"
     ]
    }
   ],
   "source": [
    "# Managing an inventory\n",
    "inventory =[\"A\",\"B\",\"C\",\"D\"]\n",
    "\n",
    "# Adding a new item\n",
    "inventory.append(\"E\")\n",
    "\n",
    "# Removing an item that is out of stock\n",
    "inventory.remove(\"B\")\n",
    "\n",
    "#Check if an item is in stock\n",
    "item =\"D\"\n",
    "if item in inventory:\n",
    "    print(f\"{item} are in stock\")\n",
    "else:\n",
    "    print(f\"{item} are out of stock\")\n",
    "\n",
    "# Printing the inventory\n",
    "print(\"Inventory List:\")\n",
    "for item in inventory:\n",
    "    print(f\"-{item}\")"
   ]
  },
  {
   "cell_type": "markdown",
   "id": "2bdd2dc7",
   "metadata": {},
   "source": [
    "Question 4: Collecting User feedback\n",
    "\n",
    "-> Use a list to collect and anayze user feedback\n"
   ]
  },
  {
   "cell_type": "code",
   "execution_count": 9,
   "id": "980549fd",
   "metadata": {},
   "outputs": [
    {
     "name": "stdout",
     "output_type": "stream",
     "text": [
      "Positive Feedback Count: 2\n",
      "User Feedback:\n",
      "-1 rating\n",
      "-2 plus rating\n",
      "-3 rating\n",
      "-4 star rating\n",
      "-5 rating\n",
      "-minus rating\n"
     ]
    }
   ],
   "source": [
    "# Collecting user feedback\n",
    "feedback =[\"1 rating\",\"2 plus rating\",\"3 rating\",\"4 star rating\",\"5 rating\"]\n",
    "\n",
    "# Adding new feedback\n",
    "feedback.append(\"minus rating\")\n",
    "\n",
    "#Counting specific feedback\n",
    "positive_feedback_count = sum(1 for comment in feedback \n",
    "                              if \"plus\" in comment.lower() or \"star\" in comment.lower())\n",
    "print(f\"Positive Feedback Count: {positive_feedback_count}\")\n",
    "\n",
    "# Printing all feedback\n",
    "print(\"User Feedback:\")\n",
    "for comment in feedback:\n",
    "    print(f\"-{comment}\")"
   ]
  },
  {
   "cell_type": "code",
   "execution_count": null,
   "id": "61f7e598",
   "metadata": {},
   "outputs": [],
   "source": []
  }
 ],
 "metadata": {
  "kernelspec": {
   "display_name": "venv",
   "language": "python",
   "name": "python3"
  },
  "language_info": {
   "codemirror_mode": {
    "name": "ipython",
    "version": 3
   },
   "file_extension": ".py",
   "mimetype": "text/x-python",
   "name": "python",
   "nbconvert_exporter": "python",
   "pygments_lexer": "ipython3",
   "version": "3.12.0"
  }
 },
 "nbformat": 4,
 "nbformat_minor": 5
}
